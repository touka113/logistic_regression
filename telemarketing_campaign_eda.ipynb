{
 "cells": [
  {
   "cell_type": "markdown",
   "metadata": {},
   "source": [
    "<p style=\"font-size:160%;font-family:georgia;color:navy\">\n",
    "    <strong>\n",
    "        Term Deposit Marketing Campaign\n",
    "        </strong>\n",
    "    </p>\n",
    "\n",
    "\n",
    "<p style=\"font-size:120%;font-family:georgia\">\n",
    "    In this project we will predict the likelihood of a subscription to a term depoist for an existing clients of a bank upon a call marketing campaign.\n",
    "    <br>The sample data set we will use to build our model is results from similar marketing campaigns from May 2008 and November 2010.\n",
    "    <br>\n",
    "    <br>To model this event (subscribe to term depost, or not), which is a classification problem, we will split this data set into a training and testing subsets, fit a logistic regression model to the training subset, and test the model on the testing subset.\n",
    "    <br>\n",
    "    <br>We will use several spliting and testing subsets to compare results. Also, we will test the accuracy of the prediction by comparing it to some basic models, like the percentage of subscribers vs. non-subscribers to the term deposit.\n",
    "    <br>\n",
    "    <br>The data set contains 41 thousands observation, 20 features for each observation.\n",
    "    </p>"
   ]
  },
  {
   "cell_type": "markdown",
   "metadata": {},
   "source": [
    "<p style=\"font-size:160%;font-family:georgia;color:navy\">\n",
    "    <strong>Content:</strong>\n",
    "    </p>\n",
    "\n",
    "- [Exploring-Feature](#exploring-feature)\n",
    "    - [Age](#age)\n",
    "    - [Job](#job)\n",
    "    - [Marital-Status](#marital)\n",
    "    - [Education](#education)\n",
    "    - [Other-Features](#other)\n",
    "- [Features-Target-Relation](#feat_tar_rltn)\n",
    "\t- [Jobs-on-Conversion](#job_y)\n",
    "\t- [Marital-on-Conversion](#marital_y)\n",
    "\t- [Education-on-Conversion](#education_y)\n",
    "    - [Month-of-Call-on-Conversion](#month_y)\n",
    "    - [Features-Pre.Model-Conclusion](#conc)"
   ]
  },
  {
   "cell_type": "markdown",
   "metadata": {},
   "source": [
    "---\n",
    "<p style=\"font-size:160%;font-family:georgia;color:navy\">\n",
    "    <strong>\n",
    "        Features\n",
    "        <br>\n",
    "        </strong>\n",
    "    </p>\n",
    "\n",
    "1 - age (numeric)\n",
    "\n",
    "2 - job : type of job (categorical: 'admin.','blue-collar','entrepreneur','housemaid','management','retired','self-employed','services','student','technician','unemployed','unknown')\n",
    "\n",
    "3 - marital : marital status (categorical: 'divorced','married','single','unknown'; note: 'divorced' means divorced or widowed)\n",
    "\n",
    "4 - education (categorical: 'basic.4y','basic.6y','basic.9y','high.school','illiterate','professional.course','university.degree','unknown')\n",
    "\n",
    "5 - default: has credit in default? (categorical: 'no','yes','unknown')\n",
    "\n",
    "6 - housing: has housing loan? (categorical: 'no','yes','unknown')\n",
    "\n",
    "7 - loan: has personal loan? (categorical: 'no','yes','unknown')\n",
    "\n",
    "### related with the last contact of the current campaign:\n",
    "8 - contact: contact communication type (categorical: 'cellular','telephone')\n",
    "\n",
    "9 - month: last contact month of year (categorical: 'jan', 'feb', 'mar', ..., 'nov', 'dec')\n",
    "\n",
    "10 - day_of_week: last contact day of the week (categorical: 'mon','tue','wed','thu','fri')\n",
    "\n",
    "11 - duration: last contact duration, in seconds (numeric). Important note: this attribute highly affects the output target (e.g., if duration=0 then y='no'). Yet, the duration is not known before a call is performed. Also, after the end of the call y is obviously known. Thus, this input should only be included for benchmark purposes and should be discarded if the intention is to have a realistic predictive model.\n",
    "\n",
    "### other attributes:\n",
    "12 - campaign: number of contacts performed during this campaign and for this client (numeric, includes last contact)\n",
    "\n",
    "13 - pdays: number of days that passed by after the client was last contacted from a previous campaign (numeric; 999 means client was not previously contacted)\n",
    "\n",
    "14 - previous: number of contacts performed before this campaign and for this client (numeric)\n",
    "\n",
    "15 - poutcome: outcome of the previous marketing campaign (categorical: 'failure','nonexistent','success')\n",
    "\n",
    "### social and economic context attributes\n",
    "\n",
    "16 - emp.var.rate: employment variation rate - quarterly indicator (numeric)\n",
    "\n",
    "17 - cons.price.idx: consumer price index - monthly indicator (numeric)\n",
    "\n",
    "18 - cons.conf.idx: consumer confidence index - monthly indicator (numeric)\n",
    "\n",
    "19 - euribor3m: euribor 3 month rate - daily indicator (numeric)\n",
    "\n",
    "20 - nr.employed: number of employees - quarterly indicator (numeric)\n",
    "\n",
    "---"
   ]
  },
  {
   "cell_type": "code",
   "execution_count": 1,
   "metadata": {},
   "outputs": [],
   "source": [
    "import pandas as pd\n",
    "import matplotlib.pyplot as plt\n",
    "import seaborn as sns\n",
    "import sklearn\n",
    "import numpy as np\n",
    "from imblearn.over_sampling import SMOTE\n",
    "\n",
    "from sklearn.model_selection import train_test_split\n",
    "from sklearn import metrics;"
   ]
  },
  {
   "cell_type": "markdown",
   "metadata": {},
   "source": [
    "<p style=\"font-size:160%;font-family:georgia;color:navy\">\n",
    "    <strong>\n",
    "        1. Reading the Data - Bais Data Set Information\n",
    "        </strong>\n",
    "    </p>"
   ]
  },
  {
   "cell_type": "code",
   "execution_count": 2,
   "metadata": {},
   "outputs": [
    {
     "data": {
      "text/html": [
       "<div>\n",
       "<style scoped>\n",
       "    .dataframe tbody tr th:only-of-type {\n",
       "        vertical-align: middle;\n",
       "    }\n",
       "\n",
       "    .dataframe tbody tr th {\n",
       "        vertical-align: top;\n",
       "    }\n",
       "\n",
       "    .dataframe thead th {\n",
       "        text-align: right;\n",
       "    }\n",
       "</style>\n",
       "<table border=\"1\" class=\"dataframe\">\n",
       "  <thead>\n",
       "    <tr style=\"text-align: right;\">\n",
       "      <th></th>\n",
       "      <th>age</th>\n",
       "      <th>job</th>\n",
       "      <th>marital</th>\n",
       "      <th>education</th>\n",
       "      <th>default</th>\n",
       "      <th>housing</th>\n",
       "      <th>loan</th>\n",
       "      <th>contact</th>\n",
       "      <th>month</th>\n",
       "      <th>day_of_week</th>\n",
       "      <th>...</th>\n",
       "      <th>campaign</th>\n",
       "      <th>pdays</th>\n",
       "      <th>previous</th>\n",
       "      <th>poutcome</th>\n",
       "      <th>emp.var.rate</th>\n",
       "      <th>cons.price.idx</th>\n",
       "      <th>cons.conf.idx</th>\n",
       "      <th>euribor3m</th>\n",
       "      <th>nr.employed</th>\n",
       "      <th>y</th>\n",
       "    </tr>\n",
       "  </thead>\n",
       "  <tbody>\n",
       "    <tr>\n",
       "      <th>0</th>\n",
       "      <td>56</td>\n",
       "      <td>housemaid</td>\n",
       "      <td>married</td>\n",
       "      <td>basic.4y</td>\n",
       "      <td>no</td>\n",
       "      <td>no</td>\n",
       "      <td>no</td>\n",
       "      <td>telephone</td>\n",
       "      <td>may</td>\n",
       "      <td>mon</td>\n",
       "      <td>...</td>\n",
       "      <td>1</td>\n",
       "      <td>999</td>\n",
       "      <td>0</td>\n",
       "      <td>nonexistent</td>\n",
       "      <td>1.1</td>\n",
       "      <td>93.994</td>\n",
       "      <td>-36.4</td>\n",
       "      <td>4.857</td>\n",
       "      <td>5191.0</td>\n",
       "      <td>no</td>\n",
       "    </tr>\n",
       "    <tr>\n",
       "      <th>1</th>\n",
       "      <td>57</td>\n",
       "      <td>services</td>\n",
       "      <td>married</td>\n",
       "      <td>high.school</td>\n",
       "      <td>unknown</td>\n",
       "      <td>no</td>\n",
       "      <td>no</td>\n",
       "      <td>telephone</td>\n",
       "      <td>may</td>\n",
       "      <td>mon</td>\n",
       "      <td>...</td>\n",
       "      <td>1</td>\n",
       "      <td>999</td>\n",
       "      <td>0</td>\n",
       "      <td>nonexistent</td>\n",
       "      <td>1.1</td>\n",
       "      <td>93.994</td>\n",
       "      <td>-36.4</td>\n",
       "      <td>4.857</td>\n",
       "      <td>5191.0</td>\n",
       "      <td>no</td>\n",
       "    </tr>\n",
       "    <tr>\n",
       "      <th>2</th>\n",
       "      <td>37</td>\n",
       "      <td>services</td>\n",
       "      <td>married</td>\n",
       "      <td>high.school</td>\n",
       "      <td>no</td>\n",
       "      <td>yes</td>\n",
       "      <td>no</td>\n",
       "      <td>telephone</td>\n",
       "      <td>may</td>\n",
       "      <td>mon</td>\n",
       "      <td>...</td>\n",
       "      <td>1</td>\n",
       "      <td>999</td>\n",
       "      <td>0</td>\n",
       "      <td>nonexistent</td>\n",
       "      <td>1.1</td>\n",
       "      <td>93.994</td>\n",
       "      <td>-36.4</td>\n",
       "      <td>4.857</td>\n",
       "      <td>5191.0</td>\n",
       "      <td>no</td>\n",
       "    </tr>\n",
       "    <tr>\n",
       "      <th>3</th>\n",
       "      <td>40</td>\n",
       "      <td>admin.</td>\n",
       "      <td>married</td>\n",
       "      <td>basic.6y</td>\n",
       "      <td>no</td>\n",
       "      <td>no</td>\n",
       "      <td>no</td>\n",
       "      <td>telephone</td>\n",
       "      <td>may</td>\n",
       "      <td>mon</td>\n",
       "      <td>...</td>\n",
       "      <td>1</td>\n",
       "      <td>999</td>\n",
       "      <td>0</td>\n",
       "      <td>nonexistent</td>\n",
       "      <td>1.1</td>\n",
       "      <td>93.994</td>\n",
       "      <td>-36.4</td>\n",
       "      <td>4.857</td>\n",
       "      <td>5191.0</td>\n",
       "      <td>no</td>\n",
       "    </tr>\n",
       "    <tr>\n",
       "      <th>4</th>\n",
       "      <td>56</td>\n",
       "      <td>services</td>\n",
       "      <td>married</td>\n",
       "      <td>high.school</td>\n",
       "      <td>no</td>\n",
       "      <td>no</td>\n",
       "      <td>yes</td>\n",
       "      <td>telephone</td>\n",
       "      <td>may</td>\n",
       "      <td>mon</td>\n",
       "      <td>...</td>\n",
       "      <td>1</td>\n",
       "      <td>999</td>\n",
       "      <td>0</td>\n",
       "      <td>nonexistent</td>\n",
       "      <td>1.1</td>\n",
       "      <td>93.994</td>\n",
       "      <td>-36.4</td>\n",
       "      <td>4.857</td>\n",
       "      <td>5191.0</td>\n",
       "      <td>no</td>\n",
       "    </tr>\n",
       "  </tbody>\n",
       "</table>\n",
       "<p>5 rows × 21 columns</p>\n",
       "</div>"
      ],
      "text/plain": [
       "   age        job  marital    education  default housing loan    contact  \\\n",
       "0   56  housemaid  married     basic.4y       no      no   no  telephone   \n",
       "1   57   services  married  high.school  unknown      no   no  telephone   \n",
       "2   37   services  married  high.school       no     yes   no  telephone   \n",
       "3   40     admin.  married     basic.6y       no      no   no  telephone   \n",
       "4   56   services  married  high.school       no      no  yes  telephone   \n",
       "\n",
       "  month day_of_week  ...  campaign  pdays  previous     poutcome emp.var.rate  \\\n",
       "0   may         mon  ...         1    999         0  nonexistent          1.1   \n",
       "1   may         mon  ...         1    999         0  nonexistent          1.1   \n",
       "2   may         mon  ...         1    999         0  nonexistent          1.1   \n",
       "3   may         mon  ...         1    999         0  nonexistent          1.1   \n",
       "4   may         mon  ...         1    999         0  nonexistent          1.1   \n",
       "\n",
       "   cons.price.idx  cons.conf.idx  euribor3m  nr.employed   y  \n",
       "0          93.994          -36.4      4.857       5191.0  no  \n",
       "1          93.994          -36.4      4.857       5191.0  no  \n",
       "2          93.994          -36.4      4.857       5191.0  no  \n",
       "3          93.994          -36.4      4.857       5191.0  no  \n",
       "4          93.994          -36.4      4.857       5191.0  no  \n",
       "\n",
       "[5 rows x 21 columns]"
      ]
     },
     "execution_count": 2,
     "metadata": {},
     "output_type": "execute_result"
    }
   ],
   "source": [
    "df = pd.read_csv('./data/bank-additional-full.csv',sep=';')\n",
    "df.head()"
   ]
  },
  {
   "cell_type": "code",
   "execution_count": 3,
   "metadata": {},
   "outputs": [
    {
     "name": "stdout",
     "output_type": "stream",
     "text": [
      "<class 'pandas.core.frame.DataFrame'>\n",
      "RangeIndex: 41188 entries, 0 to 41187\n",
      "Data columns (total 21 columns):\n",
      "age               41188 non-null int64\n",
      "job               41188 non-null object\n",
      "marital           41188 non-null object\n",
      "education         41188 non-null object\n",
      "default           41188 non-null object\n",
      "housing           41188 non-null object\n",
      "loan              41188 non-null object\n",
      "contact           41188 non-null object\n",
      "month             41188 non-null object\n",
      "day_of_week       41188 non-null object\n",
      "duration          41188 non-null int64\n",
      "campaign          41188 non-null int64\n",
      "pdays             41188 non-null int64\n",
      "previous          41188 non-null int64\n",
      "poutcome          41188 non-null object\n",
      "emp.var.rate      41188 non-null float64\n",
      "cons.price.idx    41188 non-null float64\n",
      "cons.conf.idx     41188 non-null float64\n",
      "euribor3m         41188 non-null float64\n",
      "nr.employed       41188 non-null float64\n",
      "y                 41188 non-null object\n",
      "dtypes: float64(5), int64(5), object(11)\n",
      "memory usage: 6.6+ MB\n",
      "None\n"
     ]
    }
   ],
   "source": [
    "print(df.info())"
   ]
  },
  {
   "cell_type": "markdown",
   "metadata": {},
   "source": [
    "<a id=\"exploring-feature\"></a>\n",
    "<p style=\"font-size:160%;font-family:georgia;color:navy\">\n",
    "    <strong>\n",
    "        2. Data Exploration\n",
    "        <br>\n",
    "        <br>2.1. Target (y)\n",
    "        </strong>\n",
    "    </p>\n",
    "    \n",
    "<p style=\"font-size:120%;font-family:georgia;color:black\">\n",
    "    Sample target results are inbalanced (fig.1).\n",
    "    <br>\n",
    "    <br>88.7% of calls did not result a sale. 11.3% of calls resulted in a sale.\n",
    "    <br>\n",
    "    <br>We can use this split as our base model; we walk into this marketing campaign with this 89/11 as our conversion expectation.\n",
    "    </p>"
   ]
  },
  {
   "cell_type": "code",
   "execution_count": 4,
   "metadata": {},
   "outputs": [
    {
     "name": "stdout",
     "output_type": "stream",
     "text": [
      "no     0.887346\n",
      "yes    0.112654\n",
      "Name: y, dtype: float64\n"
     ]
    },
    {
     "data": {
      "image/png": "[encoded data removed]",
      "text/plain": [
       "<Figure size 432x288 with 1 Axes>"
      ]
     },
     "metadata": {
      "needs_background": "light"
     },
     "output_type": "display_data"
    }
   ],
   "source": [
    "#exploring our data balance\n",
    "print(df['y'].value_counts()/df['y'].count())\n",
    "sns.countplot(data=df,x='y')\n",
    "plt.title('Fig.1 Target (conversions)');"
   ]
  },
  {
   "cell_type": "markdown",
   "metadata": {},
   "source": [
    "<p style=\"font-size:160%;font-family:georgia;color:navy\">\n",
    "    <strong>\n",
    "        2. Data Exploration\n",
    "        <br>\n",
    "        <br>2.2. Features\n",
    "        </strong>\n",
    "    </p>"
   ]
  },
  {
   "cell_type": "code",
   "execution_count": 5,
   "metadata": {},
   "outputs": [],
   "source": [
    "#spiting the dataframe into features X, and target y\n",
    "X = df.drop(['y'],axis=1)\n",
    "y = df.y"
   ]
  },
  {
   "cell_type": "code",
   "execution_count": 6,
   "metadata": {},
   "outputs": [
    {
     "data": {
      "text/plain": [
       "Index(['age', 'job', 'marital', 'education', 'default', 'housing', 'loan',\n",
       "       'contact', 'month', 'day_of_week', 'duration', 'campaign', 'pdays',\n",
       "       'previous', 'poutcome', 'emp.var.rate', 'cons.price.idx',\n",
       "       'cons.conf.idx', 'euribor3m', 'nr.employed'],\n",
       "      dtype='object')"
      ]
     },
     "execution_count": 6,
     "metadata": {},
     "output_type": "execute_result"
    }
   ],
   "source": [
    "X.columns"
   ]
  },
  {
   "cell_type": "markdown",
   "metadata": {},
   "source": [
    "<a id=\"age\"></a>\n",
    "<p style=\"font-size:140%;font-family:georgia;color:black\">\n",
    "    <b>2.2.1. Age</b>\n",
    "    </p>\n",
    "    \n",
    "Average age in our sample is 40 years old, median of 38, and a standard deviation of 10 (0.25 the mean) which indicate that ages in our sample are not normally distributed, but not too far from a normal distribution.\n",
    "\n",
    "Average age for clients who subscribed are slightly hier than clients who did not."
   ]
  },
  {
   "cell_type": "code",
   "execution_count": 7,
   "metadata": {},
   "outputs": [
    {
     "data": {
      "image/png": "[encoded data removed]",
      "text/plain": [
       "<Figure size 432x288 with 1 Axes>"
      ]
     },
     "metadata": {
      "needs_background": "light"
     },
     "output_type": "display_data"
    }
   ],
   "source": [
    "#let's explore visually the distribution of our sample age\n",
    "sns.distplot(df['age'])\n",
    "#sns.kdeplot(df['age'],bw=5,legend=False)\n",
    "#sns.kdeplot(df['age'],bw=10,legend=False)\n",
    "plt.title('Fig.2 Sample Customer Age Distribution');"
   ]
  },
  {
   "cell_type": "code",
   "execution_count": 8,
   "metadata": {},
   "outputs": [
    {
     "name": "stdout",
     "output_type": "stream",
     "text": [
      "       count      mean       std   min   25%   50%   75%   max\n",
      "age  41188.0  40.02406  10.42125  17.0  32.0  38.0  47.0  98.0\n",
      "\n",
      "Table 1\n",
      "---------------------\n"
     ]
    },
    {
     "data": {
      "text/html": [
       "<div>\n",
       "<style scoped>\n",
       "    .dataframe tbody tr th:only-of-type {\n",
       "        vertical-align: middle;\n",
       "    }\n",
       "\n",
       "    .dataframe tbody tr th {\n",
       "        vertical-align: top;\n",
       "    }\n",
       "\n",
       "    .dataframe thead th {\n",
       "        text-align: right;\n",
       "    }\n",
       "</style>\n",
       "<table border=\"1\" class=\"dataframe\">\n",
       "  <thead>\n",
       "    <tr style=\"text-align: right;\">\n",
       "      <th></th>\n",
       "      <th>age</th>\n",
       "      <th>duration</th>\n",
       "      <th>campaign</th>\n",
       "      <th>pdays</th>\n",
       "      <th>previous</th>\n",
       "      <th>emp.var.rate</th>\n",
       "      <th>cons.price.idx</th>\n",
       "      <th>cons.conf.idx</th>\n",
       "      <th>euribor3m</th>\n",
       "      <th>nr.employed</th>\n",
       "    </tr>\n",
       "    <tr>\n",
       "      <th>y</th>\n",
       "      <th></th>\n",
       "      <th></th>\n",
       "      <th></th>\n",
       "      <th></th>\n",
       "      <th></th>\n",
       "      <th></th>\n",
       "      <th></th>\n",
       "      <th></th>\n",
       "      <th></th>\n",
       "      <th></th>\n",
       "    </tr>\n",
       "  </thead>\n",
       "  <tbody>\n",
       "    <tr>\n",
       "      <th>no</th>\n",
       "      <td>39.911185</td>\n",
       "      <td>220.844807</td>\n",
       "      <td>2.633085</td>\n",
       "      <td>984.113878</td>\n",
       "      <td>0.132374</td>\n",
       "      <td>0.248875</td>\n",
       "      <td>93.603757</td>\n",
       "      <td>-40.593097</td>\n",
       "      <td>3.811491</td>\n",
       "      <td>5176.166600</td>\n",
       "    </tr>\n",
       "    <tr>\n",
       "      <th>yes</th>\n",
       "      <td>40.913147</td>\n",
       "      <td>553.191164</td>\n",
       "      <td>2.051724</td>\n",
       "      <td>792.035560</td>\n",
       "      <td>0.492672</td>\n",
       "      <td>-1.233448</td>\n",
       "      <td>93.354386</td>\n",
       "      <td>-39.789784</td>\n",
       "      <td>2.123135</td>\n",
       "      <td>5095.115991</td>\n",
       "    </tr>\n",
       "  </tbody>\n",
       "</table>\n",
       "</div>"
      ],
      "text/plain": [
       "           age    duration  campaign       pdays  previous  emp.var.rate  \\\n",
       "y                                                                          \n",
       "no   39.911185  220.844807  2.633085  984.113878  0.132374      0.248875   \n",
       "yes  40.913147  553.191164  2.051724  792.035560  0.492672     -1.233448   \n",
       "\n",
       "     cons.price.idx  cons.conf.idx  euribor3m  nr.employed  \n",
       "y                                                           \n",
       "no        93.603757     -40.593097   3.811491  5176.166600  \n",
       "yes       93.354386     -39.789784   2.123135  5095.115991  "
      ]
     },
     "execution_count": 8,
     "metadata": {},
     "output_type": "execute_result"
    }
   ],
   "source": [
    "print(X[['age']].describe().T)\n",
    "print('')\n",
    "print('Table 1')\n",
    "print('---------------------')\n",
    "df.groupby('y').mean()"
   ]
  },
  {
   "cell_type": "code",
   "execution_count": 9,
   "metadata": {},
   "outputs": [
    {
     "data": {
      "text/plain": [
       "<matplotlib.axes._subplots.AxesSubplot at 0x163f8387160>"
      ]
     },
     "execution_count": 9,
     "metadata": {},
     "output_type": "execute_result"
    },
    {
     "data": {
      "image/png": "[encoded data removed]",
      "text/plain": [
       "<Figure size 432x288 with 1 Axes>"
      ]
     },
     "metadata": {
      "needs_background": "light"
     },
     "output_type": "display_data"
    }
   ],
   "source": [
    "sns.boxplot(data=df,x='y',y='age')"
   ]
  },
  {
   "cell_type": "markdown",
   "metadata": {},
   "source": [
    "<a id=\"job\"></a>\n",
    "<p style=\"font-size:160%;color:#000f2b;font-family:georgia\">\n",
    "    <b>\n",
    "        Exploring Categorical Variables\n",
    "        </b>\n",
    "    </p>\n",
    "    \n",
    "<p style=\"font-size:140%;font-family:georgia;color:black\">\n",
    "    <b>2.2.2. Job</b>\n",
    "    </p>\n"
   ]
  },
  {
   "cell_type": "code",
   "execution_count": 10,
   "metadata": {},
   "outputs": [
    {
     "name": "stdout",
     "output_type": "stream",
     "text": [
      "25% of sample jobs is admin, 22% blue-collar, 16% technician\n",
      "------------------------------------------------------------\n",
      "job   unknown   student  unemployed  housemaid  self-employed  entrepreneur  \\\n",
      "age  0.008012  0.021244    0.024619   0.025736         0.0345       0.03535   \n",
      "\n",
      "job  retired  management  services  technician  blue-collar    admin.  \n",
      "age  0.04176    0.070992  0.096363    0.163713     0.224677  0.253035  \n"
     ]
    },
    {
     "data": {
      "image/png": "[encoded data removed]",
      "text/plain": [
       "<Figure size 432x288 with 1 Axes>"
      ]
     },
     "metadata": {
      "needs_background": "light"
     },
     "output_type": "display_data"
    },
    {
     "data": {
      "text/plain": [
       "<Figure size 1008x576 with 0 Axes>"
      ]
     },
     "metadata": {},
     "output_type": "display_data"
    }
   ],
   "source": [
    "#adding distribution per job type into a data frame \n",
    "#note: using age filed to count values, this could be any column, age was selected randomly\n",
    "job = df.groupby('job')[['age']].count().sort_values(by='age')/df['age'].count()\n",
    "\n",
    "#visualizing the distribution\n",
    "print('25% of sample jobs is admin, 22% blue-collar, 16% technician')\n",
    "print('------------------------------------------------------------')\n",
    "print(job.T)\n",
    "job.plot(kind='barh')\n",
    "plt.title('Sample Customer Job \\n % of total')\n",
    "plt.figure(figsize=(14,8))\n",
    "plt.savefig('customer_job');"
   ]
  },
  {
   "cell_type": "markdown",
   "metadata": {},
   "source": [
    "<a id=\"marital\"></a>\n",
    "<p style=\"font-size:140%;font-family:georgia;color:black\">\n",
    "    <b>2.2.3. Marital Status</b>\n",
    "    </p>"
   ]
  },
  {
   "cell_type": "code",
   "execution_count": 11,
   "metadata": {},
   "outputs": [
    {
     "name": "stdout",
     "output_type": "stream",
     "text": [
      "60% of sample customers are married, 28% single, 12% divorced\n",
      "------------------------------------------------------------\n",
      "marital   unknown  divorced    single   married\n",
      "age      0.001942  0.111974  0.280859  0.605225\n"
     ]
    },
    {
     "data": {
      "image/png": "[encoded data removed]",
      "text/plain": [
       "<Figure size 432x288 with 1 Axes>"
      ]
     },
     "metadata": {
      "needs_background": "light"
     },
     "output_type": "display_data"
    }
   ],
   "source": [
    "#adding distribution per job type into a data frame \n",
    "#note: using age filed to count values, this could be any column, age was selected randomly\n",
    "marital = df.groupby('marital')[['age']].count().sort_values(by='age')/df['age'].count()\n",
    "\n",
    "#visualizing the distribution\n",
    "print('60% of sample customers are married, 28% single, 12% divorced')\n",
    "print('------------------------------------------------------------')\n",
    "print(marital.T)\n",
    "marital.plot(kind='barh')\n",
    "plt.title('Fig.4 Sample Customer martial status \\n % of total');"
   ]
  },
  {
   "cell_type": "markdown",
   "metadata": {},
   "source": [
    "<a id=\"education\"></a>\n",
    "<p style=\"font-size:140%;font-family:georgia;color:black\">\n",
    "    <b>2.2.4. Education</b>\n",
    "    </p>"
   ]
  },
  {
   "cell_type": "code",
   "execution_count": 12,
   "metadata": {},
   "outputs": [
    {
     "name": "stdout",
     "output_type": "stream",
     "text": [
      "30% of sample customers have a university degree\n",
      "------------------------------------------------------------\n",
      "education  illiterate   unknown  basic.6y  basic.4y  professional.course  \\\n",
      "age          0.000437  0.042027  0.055647  0.101389             0.127294   \n",
      "\n",
      "education  basic.9y  high.school  university.degree  \n",
      "age        0.146766     0.231014           0.295426  \n"
     ]
    },
    {
     "data": {
      "image/png": "[encoded data removed]",
      "text/plain": [
       "<Figure size 432x288 with 1 Axes>"
      ]
     },
     "metadata": {
      "needs_background": "light"
     },
     "output_type": "display_data"
    }
   ],
   "source": [
    "#adding distribution per job type into a data frame \n",
    "#note: using age filed to count values, this could be any column, age was selected randomly\n",
    "education = df.groupby('education')[['age']].count().sort_values(by='age')/df['age'].count()\n",
    "\n",
    "#visualizing the distribution\n",
    "print('30% of sample customers have a university degree')\n",
    "print('------------------------------------------------------------')\n",
    "print(education.T)\n",
    "education.plot(kind='barh')\n",
    "plt.title('Sample Customer education \\n % of total');"
   ]
  },
  {
   "cell_type": "markdown",
   "metadata": {},
   "source": [
    "<a id=\"other\"></a>\n",
    "<p style=\"font-size:140%;font-family:georgia;color:black\">\n",
    "    <b>2.2.5. Credit Default</b>\n",
    "    </p>"
   ]
  },
  {
   "cell_type": "code",
   "execution_count": 13,
   "metadata": {},
   "outputs": [
    {
     "name": "stdout",
     "output_type": "stream",
     "text": [
      "\n",
      "------------------------------------------------------------\n",
      "default       yes   unknown        no\n",
      "age      0.000073  0.208726  0.791201\n"
     ]
    },
    {
     "data": {
      "image/png": "[encoded data removed]",
      "text/plain": [
       "<Figure size 432x288 with 1 Axes>"
      ]
     },
     "metadata": {
      "needs_background": "light"
     },
     "output_type": "display_data"
    }
   ],
   "source": [
    "#adding distribution per job type into a data frame \n",
    "#note: using age filed to count values, this could be any column, age was selected randomly\n",
    "default = df.groupby('default')[['age']].count().sort_values(by='age')/df['age'].count()\n",
    "\n",
    "#visualizing the distribution\n",
    "print('')\n",
    "print('------------------------------------------------------------')\n",
    "print(default.T)\n",
    "default.plot(kind='barh')\n",
    "plt.title('Fig.6 Has credit in default \\n % of total');"
   ]
  },
  {
   "cell_type": "markdown",
   "metadata": {},
   "source": [
    "<p style=\"font-size:140%;font-family:georgia;color:black\">\n",
    "    <b>2.2.6. House Loan</b>\n",
    "    </p>"
   ]
  },
  {
   "cell_type": "code",
   "execution_count": 14,
   "metadata": {},
   "outputs": [
    {
     "name": "stdout",
     "output_type": "stream",
     "text": [
      "52% of sample have a housing loan\n",
      "------------------------------------------------------------\n",
      "housing   unknown        no       yes\n",
      "age      0.024036  0.452122  0.523842\n"
     ]
    },
    {
     "data": {
      "image/png": "[encoded data removed]",
      "text/plain": [
       "<Figure size 432x288 with 1 Axes>"
      ]
     },
     "metadata": {
      "needs_background": "light"
     },
     "output_type": "display_data"
    }
   ],
   "source": [
    "#adding distribution per job type into a data frame \n",
    "#note: using age filed to count values, this could be any column, age was selected randomly\n",
    "housing = df.groupby('housing')[['age']].count().sort_values(by='age')/df['age'].count()\n",
    "\n",
    "#visualizing the distribution\n",
    "print('52% of sample have a housing loan')\n",
    "print('------------------------------------------------------------')\n",
    "print(housing.T)\n",
    "housing.plot(kind='barh')\n",
    "plt.title('Fig.7 Has Housing Loan? \\n % of total');"
   ]
  },
  {
   "cell_type": "markdown",
   "metadata": {},
   "source": [
    "<p style=\"font-size:140%;font-family:georgia;color:black\">\n",
    "    <b>2.2.7. Personal Loan</b>\n",
    "    </p>"
   ]
  },
  {
   "cell_type": "code",
   "execution_count": 15,
   "metadata": {},
   "outputs": [
    {
     "name": "stdout",
     "output_type": "stream",
     "text": [
      "82% of sample does not have a personal loan\n",
      "------------------------------------------------------------\n",
      "loan   unknown       yes        no\n",
      "age   0.024036  0.151695  0.824269\n"
     ]
    },
    {
     "data": {
      "image/png": "[encoded data removed]",
      "text/plain": [
       "<Figure size 432x288 with 1 Axes>"
      ]
     },
     "metadata": {
      "needs_background": "light"
     },
     "output_type": "display_data"
    }
   ],
   "source": [
    "#adding distribution per job type into a data frame \n",
    "#note: using age filed to count values, this could be any column, age was selected randomly\n",
    "loan = df.groupby('loan')[['age']].count().sort_values(by='age')/df['age'].count()\n",
    "\n",
    "#visualizing the distribution\n",
    "print('82% of sample does not have a personal loan')\n",
    "print('------------------------------------------------------------')\n",
    "print(loan.T)\n",
    "loan.plot(kind='barh')\n",
    "plt.title('Fig.8 Has Personal Loan? \\n % of total');"
   ]
  },
  {
   "cell_type": "markdown",
   "metadata": {},
   "source": [
    "<p style=\"font-size:140%;font-family:georgia;color:black\">\n",
    "    <b>2.2.8. Communication Type</b>\n",
    "    </p>"
   ]
  },
  {
   "cell_type": "code",
   "execution_count": 16,
   "metadata": {},
   "outputs": [
    {
     "name": "stdout",
     "output_type": "stream",
     "text": [
      "\n",
      "------------------------------------------------------------\n",
      "contact  telephone  cellular\n",
      "age       0.365252  0.634748\n"
     ]
    },
    {
     "data": {
      "image/png": "[encoded data removed]",
      "text/plain": [
       "<Figure size 432x288 with 1 Axes>"
      ]
     },
     "metadata": {
      "needs_background": "light"
     },
     "output_type": "display_data"
    }
   ],
   "source": [
    "#adding distribution per job type into a data frame \n",
    "#note: using age filed to count values, this could be any column, age was selected randomly\n",
    "contact = df.groupby('contact')[['age']].count().sort_values(by='age')/df['age'].count()\n",
    "\n",
    "#visualizing the distribution\n",
    "print('')\n",
    "print('------------------------------------------------------------')\n",
    "print(contact.T)\n",
    "contact.plot(kind='barh')\n",
    "plt.title('Fig.9 Contact Communication Type? \\n % of total');"
   ]
  },
  {
   "cell_type": "markdown",
   "metadata": {},
   "source": [
    "<p style=\"font-size:140%;font-family:georgia;color:black\">\n",
    "    <b>2.2.9. Contact Month</b>\n",
    "    </p>"
   ]
  },
  {
   "cell_type": "code",
   "execution_count": 17,
   "metadata": {},
   "outputs": [
    {
     "name": "stdout",
     "output_type": "stream",
     "text": [
      "most campaigns are made during summer time, except November\n",
      "------------------------------------------------------------\n",
      "month       dec       mar       sep       oct       apr       nov       jun  \\\n",
      "age    0.004419  0.013256  0.013839  0.017432  0.063902  0.099568  0.129115   \n",
      "\n",
      "month       aug       jul       may  \n",
      "age    0.149995  0.174177  0.334296  \n"
     ]
    },
    {
     "data": {
      "image/png": "[encoded data removed]",
      "text/plain": [
       "<Figure size 432x288 with 1 Axes>"
      ]
     },
     "metadata": {
      "needs_background": "light"
     },
     "output_type": "display_data"
    }
   ],
   "source": [
    "#adding distribution per job type into a data frame \n",
    "#note: using age filed to count values, this could be any column, age was selected randomly\n",
    "month = df.groupby('month')[['age']].count().sort_values(by='age')/df['age'].count()\n",
    "\n",
    "#visualizing the distribution\n",
    "print('most campaigns are made during summer time, except November')\n",
    "print('------------------------------------------------------------')\n",
    "print(month.T)\n",
    "month.plot(kind='bar')\n",
    "plt.title('Fig.10 Last contact Month \\n % of total');"
   ]
  },
  {
   "cell_type": "markdown",
   "metadata": {},
   "source": [
    "<p style=\"font-size:140%;font-family:georgia;color:black\">\n",
    "    <b>2.2.10. Day of Week</b>\n",
    "    </p>"
   ]
  },
  {
   "cell_type": "code",
   "execution_count": 18,
   "metadata": {},
   "outputs": [
    {
     "name": "stdout",
     "output_type": "stream",
     "text": [
      "most campaigns are made during summer time, except November\n",
      "------------------------------------------------------------\n",
      "day_of_week       fri       tue       wed       mon       thu\n",
      "age          0.190031  0.196416  0.197485  0.206711  0.209357\n"
     ]
    },
    {
     "data": {
      "image/png": "[encoded data removed]",
      "text/plain": [
       "<Figure size 432x288 with 1 Axes>"
      ]
     },
     "metadata": {
      "needs_background": "light"
     },
     "output_type": "display_data"
    }
   ],
   "source": [
    "#adding distribution per job type into a data frame \n",
    "#note: using age filed to count values, this could be any column, age was selected randomly\n",
    "day_of_week = df.groupby('day_of_week')[['age']].count().sort_values(by='age')/df['age'].count()\n",
    "\n",
    "#visualizing the distribution\n",
    "print('most campaigns are made during summer time, except November')\n",
    "print('------------------------------------------------------------')\n",
    "print(day_of_week.T)\n",
    "day_of_week.plot(kind='bar')\n",
    "plt.title('Fig.11 Last Contact Day of Week \\n % of total');"
   ]
  },
  {
   "cell_type": "markdown",
   "metadata": {},
   "source": [
    "<p style=\"font-size:140%;font-family:georgia;color:black\">\n",
    "    <b>2.2.11. Number of Contacts</b>\n",
    "    </p>"
   ]
  },
  {
   "cell_type": "code",
   "execution_count": 19,
   "metadata": {},
   "outputs": [
    {
     "name": "stdout",
     "output_type": "stream",
     "text": [
      "most campaigns are made during summer time, except November\n",
      "------------------------------------------------------------\n",
      "campaign         7         6         5         4         3         2         1\n",
      "age       0.015271  0.023769  0.038822  0.064363  0.129674  0.256628  0.428329\n"
     ]
    },
    {
     "data": {
      "text/plain": [
       "<Figure size 864x576 with 0 Axes>"
      ]
     },
     "metadata": {},
     "output_type": "display_data"
    },
    {
     "data": {
      "image/png": "[encoded data removed]",
      "text/plain": [
       "<Figure size 576x432 with 1 Axes>"
      ]
     },
     "metadata": {
      "needs_background": "light"
     },
     "output_type": "display_data"
    }
   ],
   "source": [
    "#adding distribution per job type into a data frame \n",
    "#note: using age filed to count values, this could be any column, age was selected randomly\n",
    "campaign = df.groupby('campaign')[['age']].count().sort_values(by='age')/df['age'].count()\n",
    "\n",
    "#reducing noise by removing contact numbers that have less than 1% market share\n",
    "campaign = campaign[campaign['age']>0.01]\n",
    "\n",
    "#visualizing the distribution\n",
    "print('most campaigns are made during summer time, except November')\n",
    "print('------------------------------------------------------------')\n",
    "print(campaign.T)\n",
    "plt.figure(figsize=(12,8))\n",
    "campaign.plot(kind='barh',figsize=(8,6))\n",
    "plt.title('Fig.12 Number of Contacts During this Campaign \\n % of total');"
   ]
  },
  {
   "cell_type": "markdown",
   "metadata": {},
   "source": [
    "<p style=\"font-size:140%;font-family:georgia;color:black\">\n",
    "    <b>2.2.12. Previous Marketing Campaign</b>\n",
    "    </p>"
   ]
  },
  {
   "cell_type": "code",
   "execution_count": 20,
   "metadata": {},
   "outputs": [
    {
     "name": "stdout",
     "output_type": "stream",
     "text": [
      "most campaigns are made during summer time, except November\n",
      "------------------------------------------------------------\n",
      "poutcome   success   failure  nonexistent\n",
      "age       0.033335  0.103234     0.863431\n"
     ]
    },
    {
     "data": {
      "image/png": "[encoded data removed]",
      "text/plain": [
       "<Figure size 432x288 with 1 Axes>"
      ]
     },
     "metadata": {
      "needs_background": "light"
     },
     "output_type": "display_data"
    }
   ],
   "source": [
    "#adding distribution per job type into a data frame \n",
    "#note: using age filed to count values, this could be any column, age was selected randomly\n",
    "poutcome = df.groupby('poutcome')[['age']].count().sort_values(by='age')/df['age'].count()\n",
    "\n",
    "#visualizing the distribution\n",
    "print('most campaigns are made during summer time, except November')\n",
    "print('------------------------------------------------------------')\n",
    "print(poutcome.T)\n",
    "poutcome.plot(kind='bar')\n",
    "plt.title('Fig.13 Outcome of Previous Marketing Campaign \\n % of total');"
   ]
  },
  {
   "cell_type": "markdown",
   "metadata": {},
   "source": [
    "<a id=\"feat_tar_rltn\"></a>\n",
    "<p style=\"font-size:160%;color:#000f2b;font-family:georgia\">\n",
    "    <b>\n",
    "        3. Exploring Relationships between Features and Targert\n",
    "        </b>\n",
    "    </p>"
   ]
  },
  {
   "cell_type": "markdown",
   "metadata": {},
   "source": [
    "* average age for clients who purchased is higher than client's who did not purchase\n",
    "* days since last contacted is lower for clients how purchased\n",
    "* number of calls during this campaign is lower for clients who purchased"
   ]
  },
  {
   "cell_type": "code",
   "execution_count": 21,
   "metadata": {},
   "outputs": [],
   "source": [
    "cont_feat_y = df.groupby('y').mean().T"
   ]
  },
  {
   "cell_type": "markdown",
   "metadata": {},
   "source": [
    "<a id=\"job_y\"></a>\n",
    "\n",
    "## 3.1. Conversion per Job\n",
    "### Students (31% conversion), retirees (25%), and unemployed (14%) are the top 3 job categories to purchase\n",
    "<p>\n",
    "    <br>\n",
    "    </p>"
   ]
  },
  {
   "cell_type": "code",
   "execution_count": 22,
   "metadata": {},
   "outputs": [
    {
     "name": "stdout",
     "output_type": "stream",
     "text": [
      "number of positive conversions by job type:\n",
      "job\n",
      "admin.           1352\n",
      "technician        730\n",
      "blue-collar       638\n",
      "retired           434\n",
      "management        328\n",
      "services          323\n",
      "student           275\n",
      "self-employed     149\n",
      "unemployed        144\n",
      "entrepreneur      124\n",
      "housemaid         106\n",
      "unknown            37\n",
      "Name: yes, dtype: int64\n",
      "-----------------------\n",
      "percentage of converstion calculated by row total:\n",
      "y                    no       yes\n",
      "job                              \n",
      "student        0.685714  0.314286\n",
      "retired        0.747674  0.252326\n",
      "unemployed     0.857988  0.142012\n",
      "admin.         0.870274  0.129726\n",
      "management     0.887825  0.112175\n",
      "unknown        0.887879  0.112121\n",
      "technician     0.891740  0.108260\n",
      "self-employed  0.895144  0.104856\n",
      "housemaid      0.900000  0.100000\n",
      "entrepreneur   0.914835  0.085165\n",
      "services       0.918619  0.081381\n",
      "blue-collar    0.931057  0.068943\n"
     ]
    },
    {
     "data": {
      "text/plain": [
       "<Figure size 1008x576 with 0 Axes>"
      ]
     },
     "metadata": {},
     "output_type": "display_data"
    },
    {
     "data": {
      "image/png": "[encoded data removed]",
      "text/plain": [
       "<Figure size 576x360 with 1 Axes>"
      ]
     },
     "metadata": {
      "needs_background": "light"
     },
     "output_type": "display_data"
    }
   ],
   "source": [
    "plt.figure(figsize=(14,8))\n",
    "job_y = pd.crosstab(df.job,df.y)\n",
    "job_y = job_y.div(job_y.sum(1).astype(float),axis=0)\n",
    "print('number of positive conversions by job type:')\n",
    "print(pd.crosstab(df.job,df.y).sort_values(by='yes',ascending=False)['yes'])\n",
    "print('-----------------------')\n",
    "print('percentage of converstion calculated by row total:')\n",
    "print(job_y.sort_values(by='yes',ascending=False))\n",
    "job_y.sort_values(by='yes',ascending=False).plot(kind='bar',stacked=True,figsize=(8,5))\n",
    "plt.title(\"Conversion per Job\");\n",
    "\n",
    "#pd.crosstab(df.job,df.y).sort_values(by='yes')['yes'].plot(kind='barh')\n",
    "#plt.title(\"Fig.3a Number of Positive Converstions (Purchase) by Job Type\")\n",
    "#plt.savefig('num_conversions_job');"
   ]
  },
  {
   "cell_type": "code",
   "execution_count": 23,
   "metadata": {},
   "outputs": [],
   "source": [
    "students = df[df['job']=='student']"
   ]
  },
  {
   "cell_type": "code",
   "execution_count": 24,
   "metadata": {},
   "outputs": [
    {
     "data": {
      "image/png": "[encoded data removed]",
      "text/plain": [
       "<Figure size 576x360 with 1 Axes>"
      ]
     },
     "metadata": {
      "needs_background": "light"
     },
     "output_type": "display_data"
    }
   ],
   "source": [
    "plt.figure(figsize=(8,5))\n",
    "sns.distplot(students[['age']][students['y']=='yes'],label='yes')\n",
    "sns.distplot(students[['age']][students['y']=='no'],label=\"no\")\n",
    "plt.title(\"Fig.15 Younger students are more inclind to purchase \\n -Student age distribution by conversion outcome\")\n",
    "plt.legend();"
   ]
  },
  {
   "cell_type": "markdown",
   "metadata": {},
   "source": [
    "<a id=\"marital_y\"></a>\n",
    "---\n",
    "## 3.2. Conversions by Marital Status\n",
    "Single have the highest conversion rates. Way to rationalize it is that people who are married probably already have a term deposit, or they have more family exenses so that they can't afford setting money aside in a term deposit."
   ]
  },
  {
   "cell_type": "code",
   "execution_count": 26,
   "metadata": {},
   "outputs": [
    {
     "name": "stdout",
     "output_type": "stream",
     "text": [
      "y               no       yes\n",
      "marital                     \n",
      "unknown   0.850000  0.150000\n",
      "single    0.859959  0.140041\n",
      "divorced  0.896791  0.103209\n",
      "married   0.898427  0.101573\n"
     ]
    },
    {
     "data": {
      "image/png": "[encoded data removed]",
      "text/plain": [
       "<Figure size 576x360 with 1 Axes>"
      ]
     },
     "metadata": {
      "needs_background": "light"
     },
     "output_type": "display_data"
    }
   ],
   "source": [
    "marital_y = pd.crosstab(df.marital,df.y)\n",
    "marital_y = marital_y.div(marital_y.sum(1).astype(float),axis=0)\n",
    "print(marital_y.sort_values(by='yes',ascending=False))\n",
    "marital_y.sort_values(by='yes',ascending=False).plot(kind='bar',stacked=True,figsize=(8,5))\n",
    "plt.title('Fig.16 Conversion by Marital Status');"
   ]
  },
  {
   "cell_type": "markdown",
   "metadata": {},
   "source": [
    "<a id=\"education_y\"></a>\n",
    "---\n",
    "## 3.3. Conversion by Education\n",
    "* People with basic education have the lowest conversion rates. \n",
    "* On the other hand, Illetirate people (0.04% of our sample), have the highest conversion rates. \n",
    "* University degree and professional course holders have conversion rates of 14% and 11% respectively"
   ]
  },
  {
   "cell_type": "code",
   "execution_count": 27,
   "metadata": {},
   "outputs": [
    {
     "name": "stdout",
     "output_type": "stream",
     "text": [
      "y                          no       yes\n",
      "education                              \n",
      "illiterate           0.777778  0.222222\n",
      "unknown              0.854997  0.145003\n",
      "university.degree    0.862755  0.137245\n",
      "professional.course  0.886515  0.113485\n",
      "high.school          0.891645  0.108355\n",
      "basic.4y             0.897510  0.102490\n",
      "basic.6y             0.917976  0.082024\n",
      "basic.9y             0.921754  0.078246\n",
      "                          age\n",
      "education                    \n",
      "illiterate           0.000437\n",
      "unknown              0.042027\n",
      "basic.6y             0.055647\n",
      "basic.4y             0.101389\n",
      "professional.course  0.127294\n",
      "basic.9y             0.146766\n",
      "high.school          0.231014\n",
      "university.degree    0.295426\n"
     ]
    },
    {
     "data": {
      "image/png": "[encoded data removed]",
      "text/plain": [
       "<Figure size 576x360 with 1 Axes>"
      ]
     },
     "metadata": {
      "needs_background": "light"
     },
     "output_type": "display_data"
    }
   ],
   "source": [
    "education_y = pd.crosstab(df.education,df.y)\n",
    "education_y = education_y.div(education_y.sum(1).astype(float),axis=0)\n",
    "print(education_y.sort_values(by='yes',ascending=False))\n",
    "education_y.sort_values(by='yes',ascending=False).plot(kind='bar',stacked=True,figsize=(8,5));\n",
    "plt.title('Conversion by Education')\n",
    "print(education)"
   ]
  },
  {
   "cell_type": "markdown",
   "metadata": {},
   "source": [
    "<a id=\"month_y\"></a>\n",
    "---\n",
    "## 3.4. Conversion by Call Month and by Call Day\n",
    "\n",
    "### Day of Week seems to have low variance and therefore will not be an effective predictor"
   ]
  },
  {
   "cell_type": "code",
   "execution_count": 28,
   "metadata": {},
   "outputs": [
    {
     "name": "stdout",
     "output_type": "stream",
     "text": [
      "y                  no       yes\n",
      "day_of_week                    \n",
      "thu          0.878812  0.121188\n",
      "tue          0.882200  0.117800\n",
      "wed          0.883329  0.116671\n",
      "fri          0.891913  0.108087\n",
      "mon          0.900517  0.099483\n"
     ]
    },
    {
     "data": {
      "image/png": "[encoded data removed]",
      "text/plain": [
       "<Figure size 576x360 with 1 Axes>"
      ]
     },
     "metadata": {
      "needs_background": "light"
     },
     "output_type": "display_data"
    }
   ],
   "source": [
    "day_y = pd.crosstab(df.day_of_week,df.y)\n",
    "day_y = day_y.div(day_y.sum(1).astype(float),axis=0)\n",
    "print(day_y.sort_values(by='yes',ascending=False))\n",
    "day_y.sort_values(by='yes',ascending=False).plot(kind='bar',stacked=True,figsize=(8,5))\n",
    "plt.title('Fig.17 Conversion by Call Day of Week');"
   ]
  },
  {
   "cell_type": "markdown",
   "metadata": {},
   "source": [
    "### Interestingly, months were we have most volume of calls (May, Jul, Aug, Jun) have the the lowest conversion rates. \n",
    "\n",
    "### Conversly, months with lowest calls volumes (Mar, Sep, Oct, Dec)  have the highest conversion rates.\n",
    "\n",
    "<p style=\"font-size:160%;color:Tomato;font-family:georgia\">\n",
    "    <b>Month of call seems to be a good predictor to conversion result</b>\n",
    "    </p>"
   ]
  },
  {
   "cell_type": "code",
   "execution_count": 29,
   "metadata": {},
   "outputs": [
    {
     "name": "stdout",
     "output_type": "stream",
     "text": [
      "            age\n",
      "month          \n",
      "dec    0.004419\n",
      "mar    0.013256\n",
      "sep    0.013839\n",
      "oct    0.017432\n",
      "apr    0.063902\n",
      "nov    0.099568\n",
      "jun    0.129115\n",
      "aug    0.149995\n",
      "jul    0.174177\n",
      "may    0.334296\n",
      "y            no       yes\n",
      "month                    \n",
      "mar    0.494505  0.505495\n",
      "dec    0.510989  0.489011\n",
      "sep    0.550877  0.449123\n",
      "oct    0.561281  0.438719\n",
      "apr    0.795213  0.204787\n",
      "aug    0.893979  0.106021\n",
      "jun    0.894885  0.105115\n",
      "nov    0.898561  0.101439\n",
      "jul    0.909534  0.090466\n",
      "may    0.935653  0.064347\n"
     ]
    },
    {
     "data": {
      "image/png": "[encoded data removed]",
      "text/plain": [
       "<Figure size 576x360 with 1 Axes>"
      ]
     },
     "metadata": {
      "needs_background": "light"
     },
     "output_type": "display_data"
    }
   ],
   "source": [
    "month_y = pd.crosstab(df.month,df.y)\n",
    "month_y = month_y.div(month_y.sum(1).astype(float),axis=0)\n",
    "print(month)\n",
    "print(month_y.sort_values(by='yes',ascending=False))\n",
    "month_y.sort_values(by='yes',ascending=False).plot(kind='bar',stacked=True,figsize=(8,5))\n",
    "plt.title('Fig.18 Conversion by Call Month');"
   ]
  },
  {
   "cell_type": "markdown",
   "metadata": {},
   "source": [
    "## conclusion\n",
    "\n",
    "* Age have an impact on the outcome of the call\n",
    "* Marital Status could be a good predictor as singles have higher conversion rates\n",
    "* Job could be a good predictor as students, retirees, and unemployed have higher conversion rates\n",
    "<p style=\"color:red\">We should note that the three categories mentioned above are minority within our sample</p>\n",
    "* Month of the call is a good predictor as Mar, Sep, Oct, Dec have the highest conversion rates\n",
    "<a id=\"conc\"></a>"
   ]
  },
  {
   "cell_type": "markdown",
   "metadata": {},
   "source": [
    "---"
   ]
  }
 ],
 "metadata": {
  "kernelspec": {
   "display_name": "Python 3",
   "language": "python",
   "name": "python3"
  },
  "language_info": {
   "codemirror_mode": {
    "name": "ipython",
    "version": 3
   },
   "file_extension": ".py",
   "mimetype": "text/x-python",
   "name": "python",
   "nbconvert_exporter": "python",
   "pygments_lexer": "ipython3",
   "version": "3.7.3"
  }
 },
 "nbformat": 4,
 "nbformat_minor": 2
}
